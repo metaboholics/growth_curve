{
 "cells": [
  {
   "cell_type": "markdown",
   "metadata": {},
   "source": [
    "# expID: Description"
   ]
  },
  {
   "cell_type": "markdown",
   "metadata": {},
   "source": [
    "## Preparations"
   ]
  },
  {
   "cell_type": "markdown",
   "metadata": {},
   "source": [
    "### Import required libraries"
   ]
  },
  {
   "cell_type": "code",
   "execution_count": null,
   "metadata": {
    "scrolled": true
   },
   "outputs": [],
   "source": [
    "library(tidyverse)"
   ]
  },
  {
   "cell_type": "markdown",
   "metadata": {},
   "source": [
    "### Define variables "
   ]
  },
  {
   "cell_type": "code",
   "execution_count": null,
   "metadata": {},
   "outputs": [],
   "source": [
    "expID <- 'ABC123'\n",
    "dish_volume = 2 # Volume of cell suspension from which sample for the CASY measurement is taken\n",
    "seeding_density <- 0.8e5"
   ]
  },
  {
   "cell_type": "markdown",
   "metadata": {},
   "source": [
    "Expects the following folder structure:\n",
    "\n",
    "+-- raw_data\n",
    "| +-- expID_cell_concentration.csv # Cell concentration taken from CASY\\\n",
    "| +-- expID_volume.csv # Cell volume taken from CASY\\\n",
    "| +-- expID_timetable.csv # File containing start and end times of each time point\\\n",
    "\n",
    "See example files for internal structure"
   ]
  },
  {
   "cell_type": "markdown",
   "metadata": {},
   "source": [
    "### Load data"
   ]
  },
  {
   "cell_type": "code",
   "execution_count": null,
   "metadata": {},
   "outputs": [],
   "source": [
    "cc <- read.csv(paste('raw_data/', expID, '_cell_concentration.csv', sep=''))\n",
    "v <- read.csv(paste('raw_data/', expID, '_volume.csv', sep=''))\n",
    "tt <- read.csv(paste('raw_data/', expID, '_timetable.csv', sep=''))"
   ]
  },
  {
   "cell_type": "markdown",
   "metadata": {},
   "source": [
    "### Convert datetime to correct format"
   ]
  },
  {
   "cell_type": "code",
   "execution_count": null,
   "metadata": {},
   "outputs": [],
   "source": [
    "tt <- tt %>%\n",
    "    mutate(t_end = strptime(t_end, \"%Y-%m-%d %H:%M\"), # Convert t_end to dttm\n",
    "           t_start = strptime(t_start, \"%Y-%m-%d %H:%M\"), # Convert t_start to dttm\n",
    "           )"
   ]
  },
  {
   "cell_type": "markdown",
   "metadata": {},
   "source": [
    "### Create vector with time points"
   ]
  },
  {
   "cell_type": "code",
   "execution_count": null,
   "metadata": {},
   "outputs": [],
   "source": [
    "timepoints <- levels(tt$timepoint)"
   ]
  },
  {
   "cell_type": "markdown",
   "metadata": {},
   "source": [
    "## Raw data"
   ]
  },
  {
   "cell_type": "markdown",
   "metadata": {},
   "source": [
    "### Cell concentration"
   ]
  },
  {
   "cell_type": "code",
   "execution_count": null,
   "metadata": {},
   "outputs": [],
   "source": [
    "cc"
   ]
  },
  {
   "cell_type": "markdown",
   "metadata": {},
   "source": [
    "### Mean volume"
   ]
  },
  {
   "cell_type": "code",
   "execution_count": null,
   "metadata": {},
   "outputs": [],
   "source": [
    "v"
   ]
  },
  {
   "cell_type": "markdown",
   "metadata": {},
   "source": [
    "### Timetable"
   ]
  },
  {
   "cell_type": "code",
   "execution_count": null,
   "metadata": {},
   "outputs": [],
   "source": [
    "tt"
   ]
  },
  {
   "cell_type": "markdown",
   "metadata": {},
   "source": [
    "## Data manipulation"
   ]
  },
  {
   "cell_type": "markdown",
   "metadata": {},
   "source": [
    "### Denormalization"
   ]
  },
  {
   "cell_type": "code",
   "execution_count": null,
   "metadata": {},
   "outputs": [],
   "source": [
    "cc_denorm <- cc %>%\n",
    "    pivot_longer(all_of(timepoints), names_to = 'timepoint', values_to = 'cell_concentration')\n",
    "\n",
    "v_denorm <- v %>%\n",
    "    pivot_longer(all_of(timepoints), names_to = 'timepoint', values_to = 'volume')"
   ]
  },
  {
   "cell_type": "markdown",
   "metadata": {},
   "source": [
    "### Merge"
   ]
  },
  {
   "cell_type": "code",
   "execution_count": null,
   "metadata": {},
   "outputs": [],
   "source": [
    "data <- merge(x = cc_denorm, y = v_denorm, by = c('sample_id','medium','replicate','timepoint'), all = TRUE)\n",
    "data <- merge(x = data, y = tt, by = c('medium','timepoint'), all.x = TRUE)"
   ]
  },
  {
   "cell_type": "markdown",
   "metadata": {},
   "source": [
    "### Calculate hours"
   ]
  },
  {
   "cell_type": "code",
   "execution_count": null,
   "metadata": {},
   "outputs": [],
   "source": [
    "data <- data %>%\n",
    "    group_by(sample_id) %>%\n",
    "    mutate(hours = as.double(difftime(t_end, lag(t_start), units='hours')), # Calculate time difference in hours\n",
    "           cumulative_hours = cumsum(replace_na(hours, 0)) # Calculate cumulative hours\n",
    "          )"
   ]
  },
  {
   "cell_type": "markdown",
   "metadata": {},
   "source": [
    "### Calculate cell number"
   ]
  },
  {
   "cell_type": "markdown",
   "metadata": {},
   "source": [
    "Cell concentration is given in cells/1mL.\\\n",
    "Total volume was 2mL, therefore cell concentration has to be multiplied with 2."
   ]
  },
  {
   "cell_type": "code",
   "execution_count": null,
   "metadata": {},
   "outputs": [],
   "source": [
    "data <- data %>%\n",
    "    mutate(cell_number = case_when(timepoint != 't0' ~ cell_concentration*dish_volume, # When timepoint is NOT t0 multiply with volume\n",
    "                                   timepoint == 't0' ~ seeding_density # When timepoint is t0, set to seeding_density\n",
    "                                  )\n",
    "          )"
   ]
  },
  {
   "cell_type": "markdown",
   "metadata": {},
   "source": [
    "### Calculate cumulative cell number"
   ]
  },
  {
   "cell_type": "markdown",
   "metadata": {},
   "source": [
    "Cumulative cell number (ccn) is calculated in the following way, with 1e5cells as the seeding density as an example:\n",
    "\n",
    "fold_change(t) = cell_number(t)/1e5 (Equation 1)\\\n",
    "ccn(t) = ccn(t-1) * fold_change(t) (Equation 2)\n",
    "\n",
    "Equation 2 is equivalent to:\\\n",
    "ccn(t) = cumprod(fold_change) * 1e5 (Equation 3)\\\n",
    "and implemented in this form.\n",
    "\n",
    "1e5 is the initial number of seeded cells."
   ]
  },
  {
   "cell_type": "code",
   "execution_count": null,
   "metadata": {},
   "outputs": [],
   "source": [
    "data <- mutate(data, fold_change = cell_number/seeding_density)\n",
    "\n",
    "data <- data %>%\n",
    "    group_by(sample_id) %>%\n",
    "    mutate(cumulative_cell_number = cumprod(fold_change)*seeding_density) # Equation 3"
   ]
  },
  {
   "cell_type": "markdown",
   "metadata": {},
   "source": [
    "### Calculate doubling time"
   ]
  },
  {
   "cell_type": "markdown",
   "metadata": {},
   "source": [
    "$dt=T\\frac{ln(2)}{ln(\\frac{N_1}{N_0})}$"
   ]
  },
  {
   "cell_type": "code",
   "execution_count": null,
   "metadata": {},
   "outputs": [],
   "source": [
    "data <- data %>%\n",
    "    mutate(doubling_time = hours * log(2)/log(cell_number/seeding_density))"
   ]
  },
  {
   "cell_type": "markdown",
   "metadata": {},
   "source": [
    "### Order dataframe"
   ]
  },
  {
   "cell_type": "code",
   "execution_count": null,
   "metadata": {},
   "outputs": [],
   "source": [
    "# Define order of levels\n",
    "#data$medium <- factor(data$medium, levels = c('medium1','medium2','medium3','medium4'))\n",
    "\n",
    "# Order dataframe by specified columns\n",
    "data <- data %>%\n",
    "    arrange(sample_id, timepoint)\n",
    "\n",
    "\n",
    "# Order sequence of columns\n",
    "data <- data[,c('sample_id',\n",
    "                'medium',\n",
    "                'replicate',\n",
    "                'timepoint',\n",
    "                'cell_concentration',\n",
    "                'cell_number',\n",
    "                'fold_change',\n",
    "                'cumulative_cell_number',\n",
    "                'doubling_time',\n",
    "                'hours',\n",
    "                'cumulative_hours',\n",
    "                't_end',\n",
    "                't_start',\n",
    "                'volume'\n",
    "               )]"
   ]
  },
  {
   "cell_type": "markdown",
   "metadata": {},
   "source": [
    "### Data"
   ]
  },
  {
   "cell_type": "code",
   "execution_count": null,
   "metadata": {
    "scrolled": true
   },
   "outputs": [],
   "source": [
    "data"
   ]
  },
  {
   "cell_type": "markdown",
   "metadata": {},
   "source": [
    "## Export as csv"
   ]
  },
  {
   "cell_type": "code",
   "execution_count": null,
   "metadata": {},
   "outputs": [],
   "source": [
    "write.csv(data, paste(expID, '_data.csv', sep=\"\"), row.names=FALSE)"
   ]
  }
 ],
 "metadata": {
  "kernelspec": {
   "display_name": "R",
   "language": "R",
   "name": "ir"
  },
  "language_info": {
   "codemirror_mode": "r",
   "file_extension": ".r",
   "mimetype": "text/x-r-source",
   "name": "R",
   "pygments_lexer": "r",
   "version": "3.6.3"
  },
  "toc": {
   "base_numbering": 1,
   "nav_menu": {},
   "number_sections": true,
   "sideBar": true,
   "skip_h1_title": false,
   "title_cell": "Table of Contents",
   "title_sidebar": "Contents",
   "toc_cell": false,
   "toc_position": {},
   "toc_section_display": true,
   "toc_window_display": true
  }
 },
 "nbformat": 4,
 "nbformat_minor": 4
}
